{
 "cells": [
  {
   "cell_type": "markdown",
   "metadata": {},
   "source": [
    "# Handcrafting a text-based game with TextWorld\n",
    "This tutorial shows how to make a custom text-based game using the TextWorld's API."
   ]
  },
  {
   "cell_type": "markdown",
   "metadata": {},
   "source": [
    "## `GameMaker`\n",
    "Let's make a game consisting of two rooms and where the goal is to place an object from the player's inventory inside a container located in the other room."
   ]
  },
  {
   "cell_type": "code",
   "execution_count": null,
   "metadata": {},
   "outputs": [],
   "source": [
    "import textworld\n",
    "from textworld import GameMaker\n",
    "\n",
    "# Make the generation process reproducible.\n",
    "from textworld import g_rng  # Global random generator.\n",
    "g_rng.set_seed(20180329)\n",
    "\n",
    "# GameMaker object for handcrafting text-based games.\n",
    "M = GameMaker()"
   ]
  },
  {
   "cell_type": "markdown",
   "metadata": {},
   "source": [
    "Documentation about the `GameMaker` API can be found at\n",
    "\n",
    "https://textworld-docs.azurewebsites.net/textworld.generator.html#textworld.generator.maker.GameMaker"
   ]
  },
  {
   "cell_type": "markdown",
   "metadata": {},
   "source": [
    "#### First, define the layout of the world."
   ]
  },
  {
   "cell_type": "code",
   "execution_count": null,
   "metadata": {},
   "outputs": [],
   "source": [
    "roomA = M.new_room(\"Room A\")\n",
    "roomB = M.new_room(\"Room B\")\n",
    "corridor = M.connect(roomA.east, roomB.west)\n",
    "M.render()"
   ]
  },
  {
   "cell_type": "markdown",
   "metadata": {},
   "source": [
    "#### Place the player somewhere."
   ]
  },
  {
   "cell_type": "code",
   "execution_count": null,
   "metadata": {},
   "outputs": [],
   "source": [
    "M.set_player(roomA)\n",
    "M.render()"
   ]
  },
  {
   "cell_type": "markdown",
   "metadata": {},
   "source": [
    "#### Add two objects to Room A."
   ]
  },
  {
   "cell_type": "code",
   "execution_count": null,
   "metadata": {},
   "outputs": [],
   "source": [
    "from pprint import pprint\n",
    "pprint(sorted(M.world.facts))\n",
    "M.world.player_room.content[0].id"
   ]
  },
  {
   "cell_type": "code",
   "execution_count": null,
   "metadata": {},
   "outputs": [],
   "source": [
    "note = M.new(type='o', name=\"note\")  # Provide the type and the name of the object.\n",
    "note.desc = \"Bravo! You can read.\"  # Text to display when issuing command \"examine note\". \n",
    "supporter = M.new(type='s')  # When not provided, names are automatically generated.\n",
    "roomA.add(supporter)  # Supporters are fixed in place.\n",
    "roomA.add(note)  # When added directly to a room, portable objects are put on the floor.\n",
    "M.render()"
   ]
  },
  {
   "cell_type": "markdown",
   "metadata": {},
   "source": [
    "##### Supported types of objects\n",
    "\n",
    "type | name | description\n",
    "--------|-----|------------\n",
    "'r' | room | can contain objects, can be connected with other rooms\n",
    "'d' | door | (un)lockable, openable/closable\n",
    "'c' | container | can hold objects, (un)lockable, openable/closable\n",
    "'s' | supporter | can hold objects\n",
    "'o' | portable object | can be carried by the player\n",
    "'k' | key | subtype of portable object, match a door or container's lock\n",
    "'f' | food | subtype of portable object, can be eaten if edible\n",
    "'oven' | oven | subtype of container, provide a heat source to cook food item\n",
    "'stove' | stove | subtype of supporter, provide a heat source to cook food item"
   ]
  },
  {
   "cell_type": "markdown",
   "metadata": {},
   "source": [
    "#### Let's add a locked door between the two rooms."
   ]
  },
  {
   "cell_type": "code",
   "execution_count": null,
   "metadata": {},
   "outputs": [],
   "source": [
    "door = M.new_door(corridor, name=\"door\")  # Door and room have their own \"new\" method, no need to provide the type.\n",
    "M.add_fact(\"locked\", door)  # Add a fact about the door, i.e. it is locked.\n",
    "M.render()"
   ]
  },
  {
   "cell_type": "markdown",
   "metadata": {},
   "source": [
    "##### Supported types of facts\n",
    "\n",
    " fact/predicate | description\n",
    "----------------|------------\n",
    "__match__(key, container/door) | The `key` matches the `container/door`'s lock.\n",
    "__open__(container/door) | The `container/door` is open.\n",
    "__closed__(container/door) | The `container/door` is closed.\n",
    "__locked__(container/door) | The `container/door` is locked.\n",
    "__edible__(food) | The `food` is edible, otherwise needs to be cooked first."
   ]
  },
  {
   "cell_type": "markdown",
   "metadata": {},
   "source": [
    "#### Create a key object that be used to unlock the door and place on the supporter object."
   ]
  },
  {
   "cell_type": "code",
   "execution_count": null,
   "metadata": {},
   "outputs": [],
   "source": [
    "key = M.new(type=\"k\", name=\"old key\")  # Create a 'k' (i.e. key) object. \n",
    "M.add_fact(\"match\", key, door)  # Tell the game 'old key' is matching the 'door''s lock\n",
    "supporter.add(key)  # Add the 'old key' on the supporter.\n",
    "M.render()"
   ]
  },
  {
   "cell_type": "markdown",
   "metadata": {},
   "source": [
    "#### Create the object carried by the player and the container (initially closed)."
   ]
  },
  {
   "cell_type": "code",
   "execution_count": null,
   "metadata": {},
   "outputs": [],
   "source": [
    "obj = M.new(type='o')  # New portable object with a randomly generated name.\n",
    "M.inventory.add(obj)  # Add the object to the player's inventory.\n",
    "\n",
    "container = M.new(type='c')  # Creating a container with a randomly generated name\n",
    "M.add_fact(\"closed\", container)  # Set the state of the container to 'closed'.\n",
    "roomB.add(container)  # Place the container in Room B\n",
    "\n",
    "M.render()"
   ]
  },
  {
   "cell_type": "markdown",
   "metadata": {},
   "source": [
    "#### Finally, record the quest.\n",
    "Type all commands you wold like to include in the quest given this game. To end recording, either input `quit` or interrupt the kernel (the stop button above)."
   ]
  },
  {
   "cell_type": "code",
   "execution_count": null,
   "metadata": {},
   "outputs": [],
   "source": [
    "quest = M.record_quest()"
   ]
  },
  {
   "cell_type": "code",
   "execution_count": null,
   "metadata": {},
   "outputs": [],
   "source": [
    "print(\" > \".join(quest.commands))\n",
    "print(\"\\n\" + quest.desc)"
   ]
  },
  {
   "cell_type": "markdown",
   "metadata": {},
   "source": [
    "### Trying out the game\n",
    "At any point, we can easily test the game we are currently building (if it can compile)."
   ]
  },
  {
   "cell_type": "code",
   "execution_count": null,
   "metadata": {},
   "outputs": [],
   "source": [
    "M.test()"
   ]
  },
  {
   "cell_type": "markdown",
   "metadata": {},
   "source": [
    "### Randomly select a quest"
   ]
  },
  {
   "cell_type": "code",
   "execution_count": null,
   "metadata": {},
   "outputs": [],
   "source": [
    "import copy\n",
    "for i in range(10):\n",
    "    M2 = copy.deepcopy(M)  # Work on a copy. \n",
    "    M2.add_distractors(10)# Add 10 random objects scattered throughout the world.\n",
    "    quest = M2.new_quest(max_length=2)\n",
    "    print(\" > \".join(quest.commands))\n",
    "\n",
    "print(\"\\n\" + quest.desc)\n",
    "M2.render()"
   ]
  },
  {
   "cell_type": "markdown",
   "metadata": {},
   "source": [
    "## Handcrafting your game"
   ]
  },
  {
   "cell_type": "code",
   "execution_count": null,
   "metadata": {},
   "outputs": [],
   "source": [
    "import textworld\n",
    "from textworld import GameMaker\n",
    "\n",
    "# Make the generation process reproducible.\n",
    "from textworld import g_rng  # Global random generator.\n",
    "g_rng.set_seed(20180329)\n",
    "\n",
    "# GameMaker object for handcrafting text-based games.\n",
    "M = GameMaker()\n",
    "\n",
    "# ... build your game here.\n",
    "\n",
    "# Uncomment the following lines to record a quest.\n",
    "# quest = M.record_quest()\n",
    "# print(\" > \".join(quest.commands))\n",
    "# print(\"\\n\" + quest.desc)\n",
    "M.test()"
   ]
  },
  {
   "cell_type": "markdown",
   "metadata": {},
   "source": [
    "## Common Errors\n",
    "- `FailedConstraintsError`: One the constraints has failed. You need to resolve the issue before being able to compile the game. The most common issues:\n",
    "    - Two objects cannot have the exact same name. Names can be composed of multiple words.\n",
    "    - A same objects was added twice to a container, supporter, room or inventory.\n",
    "- `ValueError: Could not determine status '' of container/door ...`: You have to provide the status (a fact) of the door/container, i.e. 'open', 'closed' or 'locked'."
   ]
  }
 ],
 "metadata": {
  "language_info": {
   "name": "python",
   "pygments_lexer": "ipython3"
  }
 },
 "nbformat": 4,
 "nbformat_minor": 2
}
